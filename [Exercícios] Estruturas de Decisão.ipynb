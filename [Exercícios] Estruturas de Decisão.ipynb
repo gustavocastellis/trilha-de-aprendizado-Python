{
 "cells": [
  {
   "cell_type": "markdown",
   "id": "8535c274",
   "metadata": {
    "id": "8535c274"
   },
   "source": [
    "# Estruturas de decisão\n",
    "\n",
    "<span style=\"color: red;\"><b>Todos os exercícios são feitos partindo-se do pressuposto de que todas as entradas são dadas de forma correta. Casos limite não mencionados no enunciado não são abordados porque não fazem parte do exercício.</b></span>"
   ]
  },
  {
   "cell_type": "markdown",
   "id": "9c3d817e",
   "metadata": {
    "id": "9c3d817e"
   },
   "source": [
    "#### 1. Faça um Programa que peça dois números e imprima o maior deles."
   ]
  },
  {
   "cell_type": "code",
   "execution_count": 16,
   "id": "ae45c028",
   "metadata": {
    "id": "ae45c028"
   },
   "outputs": [
    {
     "name": "stdout",
     "output_type": "stream",
     "text": [
      "Digite um número: 49\n",
      "Digite outro número: 50\n",
      "O número 50.0 é maior que o número 49.0\n"
     ]
    }
   ],
   "source": [
    "n1 = float(input('Digite um número: '))\n",
    "n2 = float(input('Digite outro número: '))\n",
    "\n",
    "if n1 > n2:\n",
    "    print(f'O número {n1} é maior que o número {n2}')\n",
    "elif n1 < n2:\n",
    "    print(f'O número {n2} é maior que o número {n1}')\n",
    "else:\n",
    "    print('Os números são iguais')"
   ]
  },
  {
   "cell_type": "markdown",
   "id": "ff510803",
   "metadata": {
    "id": "ff510803"
   },
   "source": [
    "\n",
    "#### 2. Faça um Programa que peça um valor e mostre na tela se o valor é positivo ou negativo."
   ]
  },
  {
   "cell_type": "code",
   "execution_count": 20,
   "id": "8952f58f",
   "metadata": {
    "id": "8952f58f"
   },
   "outputs": [
    {
     "name": "stdout",
     "output_type": "stream",
     "text": [
      "Digite um número: -30\n",
      "O número -30.0 é negativo.\n"
     ]
    }
   ],
   "source": [
    "n1 = float(input('Digite um número: '))\n",
    "\n",
    "if n1>0:\n",
    "    print(f'O número {n1} é positivo.')\n",
    "elif n1<0:\n",
    "    print(f'O número {n1} é negativo.')\n",
    "else:\n",
    "    print('O número digitado é 0')"
   ]
  },
  {
   "cell_type": "markdown",
   "id": "6966546b",
   "metadata": {
    "id": "6966546b"
   },
   "source": [
    "#### 3. Faça um Programa que verifique o estado civil de uma pessoa. Se a letra digitada é \"C\" (Casado), \"S\" (Solteiro), \"D\" (Divorciado), \"V\" (Viúvo) ou \"O\" (outros). Conforme a letra escrita pelo usuário seu programa deve escrever o estado civil, exemplo:\n",
    "\n",
    "Usuário digita: C\n",
    "\n",
    "Seu programa deve responder:\n",
    "C - Casado"
   ]
  },
  {
   "cell_type": "code",
   "execution_count": 13,
   "id": "876a1e67",
   "metadata": {
    "id": "876a1e67"
   },
   "outputs": [
    {
     "name": "stdout",
     "output_type": "stream",
     "text": [
      "Digite uma letra, se a letra digitada é \"C\" (Casado), \"S\" (Solteiro), \"D\" (Divorciado), \"V\" (Viúvo) ou \"O\" (outros): O\n",
      "O - Outros\n"
     ]
    }
   ],
   "source": [
    "letra = input('Digite uma letra, se a letra digitada é \"C\" (Casado), \"S\" (Solteiro), \"D\" (Divorciado), \"V\" (Viúvo) ou \"O\" (outros): ')\n",
    "if letra == 'C' or letra == 'S' or letra == 'D' or letra == 'V' or letra =='O':\n",
    "    if letra == 'C':\n",
    "        print('C - Casado')\n",
    "    elif letra == 'S':\n",
    "        print('S - Solteiro')\n",
    "    elif letra == 'D':\n",
    "        print('D - Divorciado')\n",
    "    elif letra == 'V':\n",
    "        print('V - Viúvo')\n",
    "    elif letra == 'O':\n",
    "        print('O - Outros')\n",
    "else:\n",
    "    print('Digite uma letra válida')"
   ]
  },
  {
   "cell_type": "markdown",
   "id": "c122c0cf",
   "metadata": {
    "id": "c122c0cf"
   },
   "source": [
    "#### 4. Faça um Programa que verifique se o e-mail digitado faz parte dos e-mails de spam."
   ]
  },
  {
   "cell_type": "code",
   "execution_count": 25,
   "id": "59bed184",
   "metadata": {
    "id": "59bed184"
   },
   "outputs": [
    {
     "name": "stdout",
     "output_type": "stream",
     "text": [
      "Digite um e-mail para ser verificado: guwayt@live.com\n",
      "O e-mail digitado não está na lista de spam.\n"
     ]
    }
   ],
   "source": [
    "emails_spam = \"fulano@gmail.com,beltrano@gmail.com,ciclano@gmail.com\"\n",
    "email = input('Digite um e-mail para ser verificado: ')\n",
    "\n",
    "if email in emails_spam:\n",
    "    print('O e-mail digitado está na lista de spam.')\n",
    "else:\n",
    "    print('O e-mail digitado não está na lista de spam.')\n"
   ]
  },
  {
   "cell_type": "markdown",
   "id": "487ee073",
   "metadata": {
    "id": "487ee073"
   },
   "source": [
    "#### 5. Faça um programa para a leitura de duas notas parciais de um aluno. O programa deve calcular a média alcançada por aluno e apresentar:\n",
    "\n",
    "##### A mensagem \"Aprovado\", se a média alcançada for maior ou igual a sete;\n",
    "##### A mensagem \"Reprovado\", se a média for menor do que sete;\n",
    "##### A mensagem \"Aprovado com Distinção\", se a média for igual a dez."
   ]
  },
  {
   "cell_type": "code",
   "execution_count": 1,
   "id": "7f5c7096",
   "metadata": {
    "id": "7f5c7096"
   },
   "outputs": [
    {
     "name": "stdout",
     "output_type": "stream",
     "text": [
      "Digite a primeira nota: 5\n",
      "Digite a segunda nota: 2\n",
      "Reprovado\n"
     ]
    }
   ],
   "source": [
    "nota1 = float(input('Digite a primeira nota: '))\n",
    "nota2 = float(input('Digite a segunda nota: '))\n",
    "media = float((nota1+nota2) / 2)\n",
    "\n",
    "if media >= 10:\n",
    "    print('Aprovado com Distinção!')\n",
    "elif media >= 7:\n",
    "    print('Aprovado')\n",
    "else:\n",
    "    print('Reprovado')"
   ]
  },
  {
   "cell_type": "markdown",
   "id": "6dd3f171",
   "metadata": {
    "id": "6dd3f171"
   },
   "source": [
    "#### 6. Faça um Programa que leia o orçamento de 3 empresas e mostre o maior deles."
   ]
  },
  {
   "cell_type": "code",
   "execution_count": 10,
   "id": "47fad875",
   "metadata": {
    "id": "51b591e5"
   },
   "outputs": [
    {
     "name": "stdout",
     "output_type": "stream",
     "text": [
      "Digite o primeiro orçamento: 5\n",
      "Digite o segundo orçamento: 2\n",
      "Digite o terceiro orçamento: 1\n",
      "O orçamento 5.0 é o maior.\n"
     ]
    }
   ],
   "source": [
    "n1 = float(input('Digite o primeiro orçamento: '))\n",
    "n2 = float(input('Digite o segundo orçamento: '))\n",
    "n3 = float(input('Digite o terceiro orçamento: '))\n",
    "\n",
    "if n1 > n2 and n1>n3:\n",
    "    print(f'O orçamento {n1} é o maior.')\n",
    "elif n2 > n1 and n2 > n3:\n",
    "    print(f'O orçamento {n2} é o maior.')\n",
    "elif n3 > n1 and n3 > n2:\n",
    "    print(f'O orçamento {n3} é o maior.')\n",
    "else:\n",
    "    print('Os orçamentos são iguais.')"
   ]
  },
  {
   "cell_type": "markdown",
   "id": "ce09ed1c",
   "metadata": {
    "id": "ce09ed1c"
   },
   "source": [
    "#### 7. Faça um Programa que leia três orçamentos e mostre o maior e o menor deles."
   ]
  },
  {
   "cell_type": "code",
   "execution_count": 23,
   "id": "249f1eb8",
   "metadata": {
    "id": "249f1eb8"
   },
   "outputs": [
    {
     "name": "stdout",
     "output_type": "stream",
     "text": [
      "Digite o primeiro orçamento: 50\n",
      "Digite o segundo orçamento: 1\n",
      "Digite o terceiro orçamento: 1\n",
      "O orçamento 50.0 é o maior.\n",
      "Os orçamentos menores são iguais.\n"
     ]
    }
   ],
   "source": [
    "n1 = float(input('Digite o primeiro orçamento: '))\n",
    "n2 = float(input('Digite o segundo orçamento: '))\n",
    "n3 = float(input('Digite o terceiro orçamento: '))\n",
    "\n",
    "if n1 > n2 and n1>n3:\n",
    "    print(f'O orçamento {n1} é o maior.')\n",
    "elif n2 > n1 and n2 > n3:\n",
    "    print(f'O orçamento {n2} é o maior.')\n",
    "elif n3 > n1 and n3 > n2:\n",
    "    print(f'O orçamento {n3} é o maior.')\n",
    "else:\n",
    "    print('Os orçamentos maiores são iguais.')\n",
    "\n",
    "if n1 < n2 and n1 < n3:\n",
    "    print(f'O orçamento {n1} é o menor.')\n",
    "elif n2 < n1 and n2 < n3:\n",
    "    print(f'O orçamento {n2} é o menor.')\n",
    "elif n3 < n1 and n3 < n2:\n",
    "    print(f'O orçamento {n3} é o menor.')\n",
    "else:\n",
    "    print('Os orçamentos menores são iguais.')"
   ]
  },
  {
   "cell_type": "markdown",
   "id": "7453d43a",
   "metadata": {
    "id": "7453d43a"
   },
   "source": [
    "#### 8. Faça um programa que pergunte o preço de três produtos e informe qual produto você deve comprar, sabendo que a decisão é sempre pelo mais barato."
   ]
  },
  {
   "cell_type": "code",
   "execution_count": 25,
   "id": "26a9503e",
   "metadata": {
    "id": "26a9503e"
   },
   "outputs": [
    {
     "name": "stdout",
     "output_type": "stream",
     "text": [
      "Digite o valor do primeiro produto: 1\n",
      "Digite o valor do segundo produto: 1\n",
      "Digite o valor do terceiro produto: 1\n",
      "Os produtos possuem o mesmo valor.\n"
     ]
    }
   ],
   "source": [
    "n1 = float(input('Digite o valor do primeiro produto: '))\n",
    "n2 = float(input('Digite o valor do segundo produto: '))\n",
    "n3 = float(input('Digite o valor do terceiro produto: '))\n",
    "\n",
    "if n1 < n2 and n1 < n3:\n",
    "    print(f'O produto de valor {n1} é o mais barato.')\n",
    "elif n2 < n1 and n2 < n3:\n",
    "    print(f'O produto de valor {n2} é o mair barato.')\n",
    "elif n3 < n1 and n3 < n2:\n",
    "    print(f'O produto de valor {n3} é o mais barato.')\n",
    "else:\n",
    "    print('Os produtos possuem o mesmo valor.')"
   ]
  },
  {
   "cell_type": "markdown",
   "id": "9ade258f",
   "metadata": {
    "id": "9ade258f"
   },
   "source": [
    "#### 9. Faça um Programa que leia três números e mostre-os em ordem decrescente."
   ]
  },
  {
   "cell_type": "code",
   "execution_count": 44,
   "id": "f194c39e",
   "metadata": {
    "id": "f194c39e"
   },
   "outputs": [
    {
     "name": "stdout",
     "output_type": "stream",
     "text": [
      "Digite o primeiro número: 2\n",
      "Digite o segundo número: 1\n",
      "Digite o terceiro número: 2\n"
     ]
    }
   ],
   "source": [
    "n1 = float(input('Digite o primeiro número: '))\n",
    "n2 = float(input('Digite o segundo número: '))\n",
    "n3 = float(input('Digite o terceiro número: '))\n",
    "\n",
    "if n1 and n2 and n3:\n",
    "        if n1 > n2 and n1 > n3:\n",
    "            if n2 > n3:\n",
    "                print(f'A ordem decrescente desses números é {n1},{n2} e {n3}.')\n",
    "            elif n3 > n2:\n",
    "                print(f'A ordem decrescente desses números é {n1}, {n3}, {n2}.')\n",
    "        if n2 > n1 and n2 > n3:\n",
    "            if n1 > n3:\n",
    "                print(f'A ordem decrescente desses números é {n2}, {n1}, {n3}')\n",
    "            elif n3 > n1:\n",
    "                print(f'A ordem decrescente desses números é {n2}, {n3}, {n1}')\n",
    "        if n3 > n2 and n3 > n1:\n",
    "            if n2 > n1:\n",
    "                print(f'A ordem decrescente desses números é {n3}, {n2}, {n1}')\n",
    "            elif n1 > n2:\n",
    "                print(f'A ordem decrescente desses números é {n3}, {n1}, {n2}')\n",
    "else:\n",
    "    print('É necessário digitar todos valores.')"
   ]
  },
  {
   "cell_type": "markdown",
   "id": "d06e2fe8",
   "metadata": {
    "id": "d06e2fe8"
   },
   "source": [
    "#### 10. Faça um Programa que pergunte em que turno você estuda. Peça para digitar M-matutino ou V-Vespertino ou N- Noturno. Imprima a mensagem \"Bom Dia!\", \"Boa Tarde!\" ou \"Boa Noite!\" ou \"Valor Inválido!\", conforme o caso."
   ]
  },
  {
   "cell_type": "code",
   "execution_count": 54,
   "id": "1eb36141",
   "metadata": {
    "id": "1eb36141"
   },
   "outputs": [
    {
     "name": "stdout",
     "output_type": "stream",
     "text": [
      "Em que turno você estuda? Digite M para matutino, V para Vespertino ou N para Noturno: kapdoaskd\n",
      "Valor inválido!\n"
     ]
    }
   ],
   "source": [
    "turno = input('Em que turno você estuda? Digite M para matutino, V para Vespertino ou N para Noturno: ')\n",
    "turno = turno.lower()\n",
    "\n",
    "if turno == 'm':\n",
    "        print('Bom dia!')\n",
    "elif turno == 'v':\n",
    "    print('Boa tarde!')\n",
    "elif turno == 'n':\n",
    "    print('Boa noite!')\n",
    "else:\n",
    "    print('Valor inválido!')\n",
    "    "
   ]
  },
  {
   "cell_type": "markdown",
   "id": "4864b755",
   "metadata": {
    "id": "4864b755"
   },
   "source": [
    "#### 11. As Organizações Tabajara resolveram dar um aumento de salário aos seus colaboradores e lhe contraram para desenvolver o programa que calculará os reajustes. Faça um programa que recebe o salário de um colaborador e o reajuste segundo o seguinte critério, baseado no salário atual:\n",
    "\n",
    "##### salários até R\\\\$ 280,00 (incluindo) : aumento de 20% \n",
    "\n",
    "##### salários entre R\\\\$ 280,00 e R\\\\$ 700,00 : aumento de 15% \n",
    "\n",
    "##### salários entre R\\\\$ 700,00 e R\\\\$ 1500,00 : aumento de 10% \n",
    "\n",
    "##### salários de R\\\\$ 1500,00 em diante : aumento de 5% Após o aumento ser realizado, informe na tela: \n",
    "\n",
    "###### o salário antes do reajuste;\n",
    "\n",
    "###### o percentual de aumento aplicado;\n",
    "\n",
    "###### o valor do aumento;\n",
    "\n",
    "###### o novo salário, após o aumento.\n",
    "\n",
    "###### Obs: Não vamos nos preocupar tanto com a formatação dos números (nº de casas decimais, por exemplo, veremos isso no próximo módulo)"
   ]
  },
  {
   "cell_type": "code",
   "execution_count": 81,
   "id": "f0d34916",
   "metadata": {
    "id": "f0d34916"
   },
   "outputs": [
    {
     "name": "stdout",
     "output_type": "stream",
     "text": [
      "Digite o salário do colaborador: 1600\n",
      "O salário antes do reajuste é de 1600.0\n",
      "O percentual de aumento aplicado é de 5.0%\n",
      "O valor do aumento é de 80.0\n",
      "O novo salário é de 1680.0\n"
     ]
    }
   ],
   "source": [
    "salario = float(input('Digite o salário do colaborador: '))\n",
    "\n",
    "if salario <= 280:\n",
    "    percentual = 0.2\n",
    "elif salario <= 700:\n",
    "    percentual = 0.15\n",
    "elif salario <= 1500:\n",
    "    percentual = 0.1\n",
    "else:\n",
    "    percentual = 0.05\n",
    "\n",
    "print(f'O salário antes do reajuste é de {salario}')\n",
    "print(f'O percentual de aumento aplicado é de {percentual*100}%')\n",
    "print(f'O valor do aumento é de {salario * percentual}')\n",
    "print(f'O novo salário é de {salario+(salario*percentual)}')\n",
    "    "
   ]
  },
  {
   "cell_type": "markdown",
   "id": "b037f1e8",
   "metadata": {
    "id": "b037f1e8"
   },
   "source": [
    "#### 12 . Faça um programa para o cálculo de uma folha de pagamento, sabendo que os descontos são do Imposto de Renda, que depende do salário bruto (conforme tabela abaixo) e que o FGTS corresponde a 11% do Salário Bruto, mas não é descontado (é a empresa que deposita). O Salário Líquido corresponde ao Salário Bruto menos os descontos. O programa deverá pedir ao usuário o valor da sua hora e a quantidade de horas trabalhadas no mês.\n",
    "\n",
    "Desconto do IR:<br>\n",
    "Salário Bruto até 900 (inclusive) - isento<br>\n",
    "Salário Bruto até 1500 (inclusive) - desconto de 5%<br>\n",
    "Salário Bruto até 2500 (inclusive) - desconto de 10%<br>\n",
    "Salário Bruto acima de 2500 - desconto de 20%<br>\n",
    "Imprima na tela as informações, dispostas conforme o exemplo abaixo. No exemplo o valor da hora é 5 e a quantidade de hora é 220.\n",
    "\n",
    "Salário Bruto: (5 * 220)        : R\\\\$ 1100,00<br>\n",
    "(-) IR (5%)                     : R\\\\$   55,00<br>\n",
    "(-) INSS ( 10%)                 : R\\\\$  110,00<br>\n",
    "FGTS (11%)                      : R\\\\$  121,00<br>\n",
    "Total de descontos              : R\\\\$  165,00<br>\n",
    "Salário Liquido                 : R\\\\$  935,00<br>\n",
    "\n",
    "###### Obs: Não vamos nos preocupar tanto com a formatação dos números (nº de casas decimais, por exemplo, veremos isso no próximo módulo)"
   ]
  },
  {
   "cell_type": "code",
   "execution_count": 18,
   "id": "dad18bb2",
   "metadata": {
    "id": "dad18bb2"
   },
   "outputs": [
    {
     "name": "stdout",
     "output_type": "stream",
     "text": [
      "Digite o valor da sua hora de trabalho: 5\n",
      "Digite a quantidade de horas trabalhadas no mês: 220\n",
      "Salário Bruto: R$ 1100.00\n",
      "(-)IR(5%): R$ 55.00\n",
      "(-)INSS(10%): R$ 110.00\n",
      "FGTS(11%): R$ 121.00\n",
      "Total de descontos: R$ 165.00\n",
      "Salário Líquido: R$ 935.00\n"
     ]
    }
   ],
   "source": [
    "valor_hora = float(input('Digite o valor da sua hora de trabalho: '))\n",
    "horas_mes = float(input('Digite a quantidade de horas trabalhadas no mês: '))\n",
    "salario = valor_hora * horas_mes\n",
    "\n",
    "if salario <= 900:\n",
    "    ir = 0\n",
    "elif salario <= 1500:\n",
    "    ir = 0.05\n",
    "elif salario <= 2500:\n",
    "    ir = 0.1\n",
    "else:\n",
    "    ir = 0.2\n",
    "\n",
    "desconto_ir = salario * ir\n",
    "inss = salario * 0.1 \n",
    "fgts = salario * 0.11\n",
    "\n",
    "print(f'Salário Bruto: R$ {salario:.2f}')\n",
    "print(f'(-)IR({ir*100:.0f}%): R$ {desconto_ir:.2f}')\n",
    "print(f'(-)INSS(10%): R$ {inss:.2f}')\n",
    "print(f'FGTS(11%): R$ {fgts:.2f}')\n",
    "print(f'Total de descontos: R$ {desconto_ir + inss:.2f}')\n",
    "print(f'Salário Líquido: R$ {salario - desconto_ir - inss:.2f}')"
   ]
  },
  {
   "cell_type": "markdown",
   "id": "814fc211",
   "metadata": {
    "id": "814fc211"
   },
   "source": [
    "#### 13. Faça um Programa que leia um número e exiba o dia correspondente da semana. (1-Domingo, 2- Segunda, etc.), se digitar outro valor deve aparecer valor inválido."
   ]
  },
  {
   "cell_type": "code",
   "execution_count": null,
   "id": "f2c2b8d8",
   "metadata": {
    "id": "f2c2b8d8"
   },
   "outputs": [],
   "source": [
    "n = input('Informe um número de 1 a 7 referente ao dia da semana: ')\n",
    "n = int(n)\n",
    "\n",
    "if n == 1:\n",
    "    print('O dia é Domingo.')\n",
    "elif n == 2:\n",
    "    print('O dia é Segunda-feira.')\n",
    "elif n == 3:\n",
    "    print('O dia é Terça-feira.')\n",
    "elif n == 4:\n",
    "    print('O dia é Quarta-feira.')\n",
    "elif n == 5:\n",
    "    print('O dia é Quinta-feira.')\n",
    "elif n == 6:\n",
    "    print('O dia é Sexta-feira.')\n",
    "elif n == 7:\n",
    "    print('O dia é Sabado.')\n",
    "else:\n",
    "    print('Digite um número válido.')"
   ]
  },
  {
   "cell_type": "markdown",
   "id": "6e5f461e",
   "metadata": {
    "id": "6e5f461e"
   },
   "source": [
    "#### 14. Faça um programa que lê as duas notas parciais obtidas por um aluno numa disciplina ao longo de um semestre, e calcule a sua média. Em seguida, mostre qual conceito o aluno teve. A atribuição de conceitos obedece à tabela abaixo:\n",
    "<pre>\n",
    "Média de Aproveitamento  Conceito\n",
    "Entre 9.0 e 10.0        A\n",
    "Entre 7.5 e 9.0         B\n",
    "Entre 6.0 e 7.5         C\n",
    "Entre 4.0 e 6.0         D\n",
    "Entre 4.0 e zero        E\n",
    "</pre>"
   ]
  },
  {
   "cell_type": "code",
   "execution_count": null,
   "id": "1676ea63",
   "metadata": {
    "id": "29721a43"
   },
   "outputs": [],
   "source": [
    "n1 = float(input('Digite a primeira nota: '))\n",
    "n2 = float(input('Digite a segunda nota: '))\n",
    "media = (n1 + n2) / 2\n",
    "\n",
    "if media >= 9:\n",
    "    print('Conceito : A')\n",
    "elif media >= 7.5:\n",
    "    print('Conceito : B')\n",
    "elif media >= 6:\n",
    "    print('Conceito : C')\n",
    "elif media >= 4:\n",
    "    print('Conceito : D')\n",
    "elif media < 4:\n",
    "    print('Conceito : E')"
   ]
  },
  {
   "cell_type": "markdown",
   "id": "e6b3bcaf",
   "metadata": {
    "id": "e6b3bcaf"
   },
   "source": [
    "#### 15. Você está construindo um calendário para controlar dias de trabalho a pedido do RH. Nessa construção, você vai precisar definir quais anos são bissextos e quais não são, para montar o calendário de forma correta. Faça um Programa que peça um número correspondente a um determinado ano e em seguida informe se este ano é ou não bissexto.\n",
    "<pre>\n",
    "Dica para determinar se um ano é bissexto: \n",
    "- São bissextos todos os anos múltiplos de 400, p.ex.: 1600, 2000, 2400, 2800...\n",
    "- São bissextos todos os múltiplos de 4, exceto se for múltiplo de 100 mas não de 400, \n",
    "p.ex.: 1996, 2000, 2004, 2008, 2012, 2016, 2020, 2024, 2028...\n",
    "- Não são bissextos todos os demais anos.<br>\n",
    "ex1: 2004 é múltiplo de 4, mas não é múltiplo de 100, então é bissexto.\n",
    "ex2: 2000 é múltiplo de 4, mas é múltiplo de 100, só que também é multiplo de 400, então é bissexto (porque todo ano múltiplo de 400 é bissexto, independente do resto).\n",
    "ex3: 1900 é múltiplo de 4, é múltiplo de 100, mas não é múltiplo de 400, então não é bissexto\n",
    "\n",
    "</pre>\n",
    "\n",
    "Dica: lembre que: numero % 4 é o resto da divisão do número por 4, ex: 10 % 3 = 1 (já que 10/3 = 3 e resta 1)"
   ]
  },
  {
   "cell_type": "code",
   "execution_count": 22,
   "id": "56af223f",
   "metadata": {
    "id": "56af223f"
   },
   "outputs": [
    {
     "name": "stdout",
     "output_type": "stream",
     "text": [
      "Digite o ano: 1800\n",
      "O ano não é bissexto.\n"
     ]
    }
   ],
   "source": [
    "n1 = int(input('Digite o ano: '))\n",
    "\n",
    "if (n1 % 4 == 0 and n1 % 100 != 0) or n1 % 400 == 0:\n",
    "    print('O ano é bissexto.')\n",
    "else:\n",
    "    print('O ano não é bissexto.')"
   ]
  },
  {
   "cell_type": "markdown",
   "id": "9fe532c8",
   "metadata": {
    "id": "9fe532c8"
   },
   "source": [
    "#### 16. Faça um Programa para leitura de três notas parciais de um aluno. O programa deve calcular a média alcançada por aluno e presentar:\n",
    "<pre>\n",
    "A mensagem \"Aprovado\", se a média for maior ou igual a 7, com a respectiva média alcançada;\n",
    "A mensagem \"Reprovado\", se a média for menor do que 7, com a respectiva média alcançada;\n",
    "A mensagem \"Aprovado com Distinção\", se a média for igual a 10.\n",
    "</pre>"
   ]
  },
  {
   "cell_type": "code",
   "execution_count": 28,
   "id": "1a56e99f",
   "metadata": {
    "id": "1a56e99f"
   },
   "outputs": [
    {
     "name": "stdout",
     "output_type": "stream",
     "text": [
      "Digite a primeira nota: 0\n",
      "Digite a segunda nota: 0\n",
      "Digite a terceira nota: 0\n",
      "Reprovado\n"
     ]
    }
   ],
   "source": [
    "n1 = float(input('Digite a primeira nota: '))\n",
    "n2 = float(input('Digite a segunda nota: '))\n",
    "n3 = float(input('Digite a terceira nota: '))\n",
    "media = (n1 + n2 + n3) / 3\n",
    "\n",
    "if media >= 10:\n",
    "    print('Aprovado com Distinção')\n",
    "elif media >= 7:\n",
    "    print('Aprovado')\n",
    "else:\n",
    "    print('Reprovado')"
   ]
  },
  {
   "cell_type": "markdown",
   "id": "d544412e",
   "metadata": {
    "id": "d544412e"
   },
   "source": [
    "#### 17. João Papo-de-Pescador, homem de bem, comprou um microcomputador para controlar o rendimento diário de seu trabalho. Toda vez que ele traz um peso de peixes maior que o estabelecido pelo regulamento de pesca do estado de São Paulo (50 quilos) deve pagar uma multa de R$ 4,00 por quilo excedente. João precisa que você faça um programa que leia a variável peso (peso de peixes) e calcule o excesso. Gravar na variável excesso a quantidade de quilos além do limite e na variável multa o valor da multa que João deverá pagar. Imprima os dados do programa com as mensagens adequadas."
   ]
  },
  {
   "cell_type": "code",
   "execution_count": 31,
   "id": "971ed027",
   "metadata": {
    "id": "971ed027"
   },
   "outputs": [
    {
     "name": "stdout",
     "output_type": "stream",
     "text": [
      "Digite a quantidade de quilos: 10\n",
      "O peso de 10.0 está dentro dos limites!\n"
     ]
    }
   ],
   "source": [
    "peso = float(input('Digite a quantidade de quilos: '))\n",
    "\n",
    "if peso > 50:\n",
    "    excesso = peso - 50\n",
    "    multa = excesso * 4\n",
    "    print(f'O excesso foi de {excesso} quilos e a multa será de R${multa}')\n",
    "else:\n",
    "    print(f'O peso de {peso} quilos está dentro dos limites!')"
   ]
  },
  {
   "cell_type": "markdown",
   "id": "0e5256e0",
   "metadata": {
    "id": "0e5256e0"
   },
   "source": [
    "#### 18. Faça um Programa para um caixa eletrônico. O programa deverá perguntar ao usuário a valor do saque e depois informar quantas notas de cada valor serão fornecidas. As notas disponíveis serão as de 1, 5, 10, 50 e 100 reais. O valor mínimo é de 10 reais e o máximo de 600 reais. O programa não deve se preocupar com a quantidade de notas existentes na máquina.\n",
    "<pre>\n",
    "Exemplo 1: Para sacar a quantia de 256 reais, o programa fornece duas notas de 100, uma nota de 50, uma nota de 5 e uma nota de 1;\n",
    "Exemplo 2: Para sacar a quantia de 399 reais, o programa fornece três notas de 100, uma nota de 50, quatro notas de 10, uma nota de 5 e quatro notas de 1.\n",
    "</pre>\n",
    "\n",
    "Dica1: numero // 10 vai te dar como resposta a parte inteira da divisão do número por 10.<br>\n",
    "Dica2: numero % 10 vai te dar o resto da divisão do número por 10."
   ]
  },
  {
   "cell_type": "code",
   "execution_count": 19,
   "id": "9b4244c7",
   "metadata": {
    "id": "9b4244c7"
   },
   "outputs": [
    {
     "name": "stdout",
     "output_type": "stream",
     "text": [
      "Digite o valor a ser sacado: 576\n",
      "Serão necessárias: \n",
      "5 notas de 100\n",
      "1 notas de 50\n",
      "2 notas de 10\n",
      "1 notas de 5\n",
      "1 notas de 1\n"
     ]
    }
   ],
   "source": [
    "valor = int(input('Digite o valor a ser sacado: '))\n",
    "n1 = 0\n",
    "n5 = 0\n",
    "n10 = 0\n",
    "n50 = 0\n",
    "n100 = 0\n",
    "\n",
    "if valor >= 10 and valor <= 600:\n",
    "    print('Serão necessárias: ')\n",
    "    if valor > 100:\n",
    "        n100 = valor // 100\n",
    "        print(f'{n100} notas de 100')\n",
    "    if valor % 100 >= 50:\n",
    "        n50 = (valor - n100*100) // 50\n",
    "        print(f'{n50} notas de 50')\n",
    "    if valor % 50 >= 10:\n",
    "        n10 = (valor - n100*100 - n50*50) // 10\n",
    "        print(f'{n10} notas de 10')\n",
    "    if valor % 10 >= 5:\n",
    "        n5 = (valor - n100*100 - n50*50 - n10*10) // 5\n",
    "        print(f'{n5} notas de 5')\n",
    "    if valor % 5 >= 1:\n",
    "        n1 = (valor - n100*100 - n50*50 - n10*10 - n5*5) // 1\n",
    "        print(f'{n1} notas de 1')\n",
    "else:\n",
    "    print('Insira um valor entre 10 e 600 reais.')"
   ]
  },
  {
   "cell_type": "markdown",
   "id": "cba47494",
   "metadata": {
    "id": "cba47494"
   },
   "source": [
    "#### 19. Faça um programa que faça 5 perguntas para uma pessoa sobre um crime. As perguntas são:\n",
    "<pre>\n",
    "\"Telefonou para a vítima?\"\n",
    "\"Esteve no local do crime?\"\n",
    "\"Mora perto da vítima?\"\n",
    "\"Devia para a vítima?\"\n",
    "\"Já trabalhou com a vítima?\" \n",
    "O programa deve no final emitir uma classificação sobre a participação da pessoa no crime. Se a pessoa responder positivamente a 2 questões ela deve ser classificada como \"Suspeita\", entre 3 e 4 como \"Cúmplice\" e 5 como \"Assassino\". Caso contrário, ele será classificado como \"Inocente\".\n",
    "</pre>"
   ]
  },
  {
   "cell_type": "code",
   "execution_count": 50,
   "id": "5fdf9b88",
   "metadata": {
    "id": "5fdf9b88"
   },
   "outputs": [
    {
     "name": "stdout",
     "output_type": "stream",
     "text": [
      "Telefonou para a vítima? sim\n",
      "Esteve no local do crime? sim\n",
      "Mora perto da vítima? sim\n",
      "Devia para a vítima? n\n",
      "Já trabalhou com a vítima? n\n",
      "Cúmplice\n"
     ]
    }
   ],
   "source": [
    "q1 = input('Telefonou para a vítima? ')\n",
    "q2 = input('Esteve no local do crime? ')\n",
    "q3 = input('Mora perto da vítima? ')\n",
    "q4 = input('Devia para a vítima? ')\n",
    "q5 = input('Já trabalhou com a vítima? ')\n",
    "\n",
    "q1, q2, q3, q4, q5 = q1.lower(), q2.lower(), q3.lower(), q4.lower(), q5.lower()\n",
    "\n",
    "if q1 == 'sim':\n",
    "    p1 = 1\n",
    "else:\n",
    "    p1 = 0\n",
    "if q2 == 'sim':\n",
    "    p2 = 1\n",
    "else:\n",
    "    p2 = 0\n",
    "if q3 == 'sim':\n",
    "    p3 = 1\n",
    "else:\n",
    "    p3 = 0\n",
    "if q4 == 'sim':\n",
    "    p4 = 1\n",
    "else:\n",
    "    p4 = 0\n",
    "if q5 == 'sim':\n",
    "    p5 = 1\n",
    "else:\n",
    "    p5 = 0\n",
    "    \n",
    "total = p1+p2+p3+p4+p5\n",
    "\n",
    "if total == 5:\n",
    "    print('Assassino')\n",
    "elif total == 3 or total == 4:\n",
    "    print('Cúmplice')\n",
    "elif total == 2:\n",
    "    print('Suspeita')\n",
    "else:\n",
    "    print('Inocente')"
   ]
  },
  {
   "cell_type": "markdown",
   "id": "18901e98",
   "metadata": {
    "id": "18901e98"
   },
   "source": [
    "#### 20. Um posto está vendendo combustíveis com a seguinte tabela de descontos:\n",
    "<pre>\n",
    "Álcool:\n",
    "até 20 litros, desconto de 3% por litro\n",
    "acima de 20 litros, desconto de 5% por litro\n",
    "Gasolina:\n",
    "até 20 litros, desconto de 4% por litro\n",
    "acima de 20 litros, desconto de 6% por litro\n",
    "\n",
    "Escreva um algoritmo que leia o número de litros vendidos, o tipo de combustível (codificado da seguinte forma: A-álcool, G-gasolina), calcule e imprima o valor a ser pago pelo cliente sabendo-se que o preço do litro da gasolina é R$ 2,50 o preço do litro do álcool é R$ 1,90.\n",
    "</pre>"
   ]
  },
  {
   "cell_type": "code",
   "execution_count": 60,
   "id": "a1fd8c38",
   "metadata": {
    "id": "a1fd8c38"
   },
   "outputs": [
    {
     "name": "stdout",
     "output_type": "stream",
     "text": [
      "Digite a quantidade de litros: 50\n",
      "Digite G para Gasolina e A para álcool: G\n",
      "O valor pago é de R$117.50\n"
     ]
    }
   ],
   "source": [
    "litros = float(input('Digite a quantidade de litros: '))\n",
    "tipo = input('Digite G para Gasolina e A para álcool: ')\n",
    "tipo = tipo.lower()\n",
    "gasolina = 2.5\n",
    "alcool = 1.9\n",
    "\n",
    "if tipo == 'a' and litros <= 20:\n",
    "    valor = (alcool * litros) * 0.97\n",
    "elif tipo == 'a' and litros > 20:\n",
    "    valor = (alcool * litros) * 0.95\n",
    "elif tipo == 'g' and litros <= 20:\n",
    "    valor = (gasolina * litros) * 0.96\n",
    "elif tipo == 'g' and litros > 20:\n",
    "    valor = (gasolina * litros) * 0.94\n",
    "    \n",
    "print(f'O valor pago é de R${valor:.2f}')"
   ]
  },
  {
   "cell_type": "markdown",
   "id": "be0f8f32",
   "metadata": {
    "id": "be0f8f32"
   },
   "source": [
    "#### 21. Uma fruteira está vendendo frutas com a seguinte tabela de preços:\n",
    "<pre>\n",
    "                      Até 5 Kg           Acima de 5 Kg\n",
    "Morango         R$ 2,50 por Kg          R$ 2,20 por Kg\n",
    "Maçã            R$ 1,80 por Kg          R$ 1,50 por Kg\n",
    "Se o cliente comprar mais de 8 Kg em frutas ou o valor total da compra ultrapassar R$ 25,00, receberá ainda um desconto de 10% sobre este total. Escreva um algoritmo para ler a quantidade (em Kg) de morangos e a quantidade (em Kg) de maças adquiridas e escreva o valor a ser pago pelo cliente.\n",
    "</pre>"
   ]
  },
  {
   "cell_type": "code",
   "execution_count": 5,
   "id": "35c47c8e",
   "metadata": {
    "id": "35c47c8e"
   },
   "outputs": [
    {
     "name": "stdout",
     "output_type": "stream",
     "text": [
      "Digite a quantidade de morangos em quilos: 6\n",
      "Digite a quantidade de maças em quilos: 6\n",
      "O valor a ser pago pelo cliente nos morangos é de R$13.200000000000001\n",
      "O valor a ser pago pelo cliente nas maças é de R$9.0\n"
     ]
    }
   ],
   "source": [
    "morango = float(input('Digite a quantidade de morangos em quilos: '))\n",
    "macas = float(input('Digite a quantidade de maças em quilos: '))\n",
    "\n",
    "if morango <= 5:\n",
    "    valor_morango = 2.5\n",
    "else:\n",
    "    valor_morango = 2.2\n",
    "\n",
    "if (valor_morango * morango) >= 25 or morango >= 8:\n",
    "    valor_pago_morango = (valor_morango * morango) * 0.9\n",
    "else:\n",
    "    valor_pago_morango = valor_morango * morango\n",
    "    \n",
    "if macas <= 5:\n",
    "    valor_macas = 1.8\n",
    "else:\n",
    "    valor_macas = 1.5\n",
    "\n",
    "if (valor_macas * macas) >= 25 or macas >= 8:\n",
    "    valor_pago_macas = (valor_macas * macas) * 0.9\n",
    "else:\n",
    "    valor_pago_macas = valor_macas * macas\n",
    "    \n",
    "\n",
    "print(f'O valor a ser pago pelo cliente nos morangos é de R${valor_pago_morango}')\n",
    "print(f'O valor a ser pago pelo cliente nas maças é de R${valor_pago_macas}')"
   ]
  },
  {
   "cell_type": "markdown",
   "id": "4dbd53ed",
   "metadata": {
    "id": "4dbd53ed"
   },
   "source": [
    "#### 22. O Hipermercado Tabajara está com uma promoção de carnes que é imperdível. Confira:\n",
    "<pre>\n",
    "                      Até 5 Kg           Acima de 5 Kg\n",
    "File Duplo      R$ 4,90 por Kg          R$ 5,80 por Kg\n",
    "Alcatra         R$ 5,90 por Kg          R$ 6,80 por Kg\n",
    "Picanha         R$ 6,90 por Kg          R$ 7,80 por Kg\n",
    "Para atender a todos os clientes, cada cliente poderá levar apenas um dos tipos de carne da promoção, porém não há limites para a quantidade de carne por cliente. Se compra for feita no cartão Tabajara o cliente receberá ainda um desconto de 5% sobre o total da compra. Escreva um programa que peça o tipo e a quantidade de carne comprada pelo usuário e gere um cupom fiscal, contendo as informações da compra: tipo e quantidade de carne, preço total, tipo de pagamento, valor do desconto e valor a pagar.\n",
    "</pre>"
   ]
  },
  {
   "cell_type": "code",
   "execution_count": 13,
   "id": "15a77357",
   "metadata": {
    "id": "15a77357"
   },
   "outputs": [
    {
     "name": "stdout",
     "output_type": "stream",
     "text": [
      "Digite o tipo de carne que deseja: file, alcatra ou picanha: ALCATRA\n",
      "Digite a quantidade que deseja: 5\n",
      "Digite o método de pagamento: C para utilizar o cartão Tabajara e D para dinheiro: C\n",
      "O tipo de carne selecionado é: alcatra\n",
      "A quantidade de carne é: 5.0\n",
      "Preço total: 29.5\n",
      "Tipo de pagamento: Cartão Tabajara\n",
      "Valor do desconto: 5.0%\n",
      "Valor a pagar: 28.025\n"
     ]
    }
   ],
   "source": [
    "tipo  = input('Digite o tipo de carne que deseja: file, alcatra ou picanha: ')\n",
    "quantidade = float(input('Digite a quantidade que deseja: '))\n",
    "pagamento = input('Digite o método de pagamento: C para utilizar o cartão Tabajara e D para dinheiro: ')\n",
    "tipo = tipo.lower()\n",
    "pagamento = pagamento.lower()\n",
    "\n",
    "if tipo == 'file' and quantidade <= 5:\n",
    "    valor = 4.9\n",
    "elif tipo == 'file' and quantidade > 5:\n",
    "    valor = 5.8\n",
    "elif tipo == 'alcatra' and quantidade <= 5:\n",
    "    valor = 5.9\n",
    "elif tipo == 'alcatra' and quantidade > 5:\n",
    "    valor = 6.8\n",
    "elif tipo == 'picanha' and quantidade <= 5:\n",
    "    valor = 6.9\n",
    "elif tipo == 'picanha' and quantidade > 5:\n",
    "    valor = 7.8\n",
    "else:\n",
    "    print('Digite um tipo válido.')\n",
    "\n",
    "if pagamento == 'c':\n",
    "    tipo_pagamento = 'Cartão Tabajara'\n",
    "    desconto = 0.05\n",
    "elif pagamento == 'd':\n",
    "    tipo_pagamento = 'Dinheiro'\n",
    "    desconto = 0\n",
    "    \n",
    "print(f'O tipo de carne selecionado é: {tipo}\\nA quantidade de carne é: {quantidade}\\nPreço total: {quantidade * valor}\\nTipo de pagamento: {tipo_pagamento}\\nValor do desconto: {desconto*100}%\\nValor a pagar: {(quantidade * valor) - ((quantidade * valor) * desconto)}')"
   ]
  },
  {
   "cell_type": "markdown",
   "id": "b949545b",
   "metadata": {
    "id": "b949545b"
   },
   "source": [
    "#### 23. Faça um Programa para uma loja de tintas. O programa deverá pedir o tamanho em metros quadrados da área a ser pintada. Considere que a cobertura da tinta é de 1 litro para cada 6 metros quadrados e que a tinta é vendida em latas de 18 litros, que custam R\\\\$ 80,00 ou em galões de 3,6 litros, que custam R\\\\$ 25,00."
   ]
  },
  {
   "cell_type": "code",
   "execution_count": 9,
   "id": "b11185b0",
   "metadata": {
    "id": "b11185b0"
   },
   "outputs": [
    {
     "name": "stdout",
     "output_type": "stream",
     "text": [
      "Qual o tamanho em metros quadrados da área a ser pintada? 120\n",
      "Compre 2 latas e 4 galões de tinta por R$ 259.78.\n"
     ]
    }
   ],
   "source": [
    "area = float(input('Informe o tamanho da área a ser pintada em m²: '))\n",
    "litros_tinta = area / 6"
   ]
  },
  {
   "cell_type": "markdown",
   "id": "b3d0598f",
   "metadata": {
    "id": "b3d0598f"
   },
   "source": [
    "##### Informe ao usuário as quantidades de tinta a serem compradas e os respectivos preços em 3 situações.\n",
    "\n",
    "Dica: lembre dos operadores // e % mostrados em exercícios anteriores<br>\n",
    "Dica1: numero // 10 vai te dar como resposta a parte inteira da divisão do número por 10.<br>\n",
    "Dica2: numero % 10 vai te dar o resto da divisão do número por 10.\n",
    "\n",
    "##### 1. Comprar apenas latas de 18 litros: (apenas latas inteiras)"
   ]
  },
  {
   "cell_type": "code",
   "execution_count": 67,
   "id": "ed599d53",
   "metadata": {
    "id": "ed599d53"
   },
   "outputs": [
    {
     "name": "stdout",
     "output_type": "stream",
     "text": [
      "Informe o tamanho da área a ser pintada em m²: 5\n",
      "Serão necessárias 1.0 latas, custando R$ 80.0 no total\n"
     ]
    }
   ],
   "source": [
    "area = float(input('Informe o tamanho da área a ser pintada em m²: '))\n",
    "litros_tinta = area / 6\n",
    "\n",
    "if litros_tinta % 18 > 0:\n",
    "    latas = litros_tinta // 18 + 1\n",
    "else:\n",
    "    latas = litros_tinta // 18\n",
    "preco = latas * 80\n",
    "print(f'Serão necessárias {latas} latas, custando R$ {preco} no total')"
   ]
  },
  {
   "cell_type": "markdown",
   "id": "ab03bc10",
   "metadata": {
    "id": "ab03bc10"
   },
   "source": [
    "##### 2. Comprar apenas galões de 3,6 litros: (apenas galoes inteiros)"
   ]
  },
  {
   "cell_type": "code",
   "execution_count": 3,
   "id": "542f4a77",
   "metadata": {
    "id": "542f4a77"
   },
   "outputs": [
    {
     "name": "stdout",
     "output_type": "stream",
     "text": [
      "Informe o tamanho da área a ser pintada em m²: 120\n",
      "Serão necessárias 6.0 latas, custando R$ 150.0 no total\n"
     ]
    }
   ],
   "source": [
    "area = float(input('Informe o tamanho da área a ser pintada em m²: '))\n",
    "litros_tinta = area / 6\n",
    "\n",
    "if litros_tinta % 3.6 > 0:\n",
    "    galoes = litros_tinta // 3.6 + 1\n",
    "else:\n",
    "    galoes = litros_tinta // 3.6\n",
    "preco = galoes * 25\n",
    "print(f'Serão necessárias {galoes} latas, custando R$ {preco} no total')"
   ]
  },
  {
   "cell_type": "markdown",
   "id": "8Jbw7RupH9Nc",
   "metadata": {
    "id": "8Jbw7RupH9Nc"
   },
   "source": [
    "##### 3. Misturar latas e galões, de forma que o desperdício de tinta seja menor. Acrescente 10% de folga e sempre arredonde os valores para cima, isto é, considere latas cheias."
   ]
  },
  {
   "cell_type": "markdown",
   "id": "93d4157b",
   "metadata": {
    "id": "93d4157b"
   },
   "source": [
    "O custo da lata é 80/18 = 4,44 R\\\\$/L\n",
    "\n",
    "O custo do galão é 25/3,6 = 6,94 R\\\\$/L\n",
    "\n",
    "A lata é mais econômica, então todas as latas inteiras que pudermos usar devemos comprar em latas. Se ficar faltando alguma coisa para completar devemos avaliar se é melhor comprar latas ou galões. Exemplo:\n",
    "\n",
    "Se queremos comprar 90 litros. 5 latas dão exatamente 90 litros. Então devemos comprar tudo em latas.\n",
    "\n",
    "Se queremos comprar 95 litros. 5 latas dão exatamente 90 litros. Então devemos comprar pelo menos 5 latas e avaliar o que falta, se estes últimos 5 litros valem mais apenas em latas ou galões.\n",
    "\n",
    "Para os 5 litros faltantes precisamos de 2 galões que custam 50 reais no total. Ou de uma lata que custa 80 reais no total. Portanto, neste caso vale mais a pena usar 2 galões.\n",
    "\n",
    "Se queremos comprar 107 litros. 5 latas dão exatamente 90 litros. Então devemos comprar pelo menos 5 latas e avaliar o que falta, se estes últimos 5 litros valem mais apenas em latas ou galões.\n",
    "\n",
    "Para os 17 litros faltantes precisamos de 5 galões que custam 125 reais no total. Ou de uma lata que custa 80 reais no total. Portanto, neste caso vale mais a pena usar uma lata.\n",
    "\n",
    "3 galões custam 75 reais, 4 galões custam 100 reais. Então, se for possível completar com até 3 galões escolhe-se galões. Qualquer quantidade maior que 3 galões, usa-se latas.\n",
    "\n",
    "Podemos ir ao exercício:"
   ]
  },
  {
   "cell_type": "code",
   "execution_count": 10,
   "id": "01d104b6",
   "metadata": {
    "id": "01d104b6"
   },
   "outputs": [
    {
     "name": "stdout",
     "output_type": "stream",
     "text": [
      "Informe o tamanho da área a ser pintada em m²: 120\n",
      "São necessários 1.0 latas e 2.0 galões. Custando R$ 130.0 no total\n"
     ]
    }
   ],
   "source": [
    "area = float(input('Informe o tamanho da área a ser pintada em m²: '))\n",
    "litros_tinta = area / 6\n",
    "\n",
    "# acrescentamos a folga de 10%\n",
    "litros_folga = litros_tinta * 1.1\n",
    "galoes = 0\n",
    "\n",
    "# só latas inteiras\n",
    "latas = litros_folga // 18\n",
    "\n",
    "\n",
    "# aqui vemos a tinta que faltou que não cabe em uma lata completa\n",
    "tinta_faltante = litros_folga - 18 * latas\n",
    "\n",
    "# tinta faltante em galões\n",
    "if tinta_faltante > 0:\n",
    "    if tinta_faltante % 3.6 > 0:\n",
    "        faltante_galoes = tinta_faltante // 3.6 + 1\n",
    "    else:\n",
    "        faltante_galoes = tinta_faltante // 3.6\n",
    "    if faltante_galoes <= 3:\n",
    "        galoes = faltante_galoes\n",
    "    else:\n",
    "        galoes = 0\n",
    "        latas = latas + 1\n",
    "\n",
    "preco = latas * 80 + galoes * 25\n",
    "print(f'São necessários {latas} latas e {galoes} galões. Custando R$ {preco} no total')"
   ]
  }
 ],
 "metadata": {
  "colab": {
   "provenance": []
  },
  "kernelspec": {
   "display_name": "Python 3 (ipykernel)",
   "language": "python",
   "name": "python3"
  },
  "language_info": {
   "codemirror_mode": {
    "name": "ipython",
    "version": 3
   },
   "file_extension": ".py",
   "mimetype": "text/x-python",
   "name": "python",
   "nbconvert_exporter": "python",
   "pygments_lexer": "ipython3",
   "version": "3.9.13"
  }
 },
 "nbformat": 4,
 "nbformat_minor": 5
}
