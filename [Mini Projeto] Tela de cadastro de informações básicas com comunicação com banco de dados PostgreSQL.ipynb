{
 "cells": [
  {
   "cell_type": "code",
   "execution_count": 2,
   "id": "4cb85fc4",
   "metadata": {},
   "outputs": [
    {
     "name": "stdout",
     "output_type": "stream",
     "text": [
      "Collecting PySimpleGUI\n",
      "  Downloading PySimpleGUI-4.60.5-py3-none-any.whl (512 kB)\n",
      "     -------------------------------------- 512.7/512.7 kB 5.3 MB/s eta 0:00:00\n",
      "Installing collected packages: PySimpleGUI\n",
      "Successfully installed PySimpleGUI-4.60.5\n",
      "Note: you may need to restart the kernel to use updated packages.\n"
     ]
    }
   ],
   "source": [
    "pip install PySimpleGUI"
   ]
  },
  {
   "cell_type": "code",
   "execution_count": 4,
   "id": "05874f8f",
   "metadata": {},
   "outputs": [],
   "source": [
    "import psycopg2 \n",
    "import PySimpleGUI as sg\n",
    "\n",
    "\n",
    "# Altere o tema para o modo escuro\n",
    "sg.change_look_and_feel('Material1')\n",
    "\n",
    "\n",
    "# Defina o layout da interface\n",
    "layout = [[sg.Text('Cadastro de usuário')],\n",
    "         [sg.Text('Usuário:'), sg.InputText()],\n",
    "         [sg.Text('Email:'), sg.InputText()],\n",
    "         [sg.Text('Senha:'), sg.InputText(password_char='*')],\n",
    "         [sg.Text('Endereço:'), sg.InputText()],\n",
    "         [sg.Text('Telefone:'), sg.InputText()],\n",
    "         [sg.Button('Enviar')]]\n",
    "\n",
    "\n",
    "# Crie a janela com o layout\n",
    "window = sg.Window('Cadastro de usuário', layout)\n",
    "\n",
    "\n",
    "# Conecte ao banco de dados\n",
    "conn = psycopg2.connect(host=\"localhost\", database=\"Sistema\", user=\"postgres\", password=\"Admin@14\", port=\"5433\")\n",
    "\n",
    "\n",
    "# Loop principal da interface\n",
    "while True:\n",
    "   event, values = window.read()\n",
    "   if event == sg.WINDOW_CLOSED:\n",
    "       break\n",
    "   elif event == 'Enviar':\n",
    "       # Insira os dados do usuário no banco de dados\n",
    "       cursor = conn.cursor()\n",
    "       cursor.execute(\"INSERT INTO users (username, email, password, address, phone) VALUES (%s, %s, %s, %s, %s)\",\n",
    "                      (values[0], values[1], values[2], values[3], values[4]))\n",
    "       conn.commit()\n",
    "       cursor.close()\n",
    "\n",
    "\n",
    "       # Exibe a mensagem de sucesso\n",
    "       sg.popup('Usuário cadastrado com sucesso!')\n",
    "\n",
    "\n",
    "# Feche a conexão com o banco de dados e a janela\n",
    "conn.close()\n",
    "window.close()\n"
   ]
  }
 ],
 "metadata": {
  "kernelspec": {
   "display_name": "Python 3 (ipykernel)",
   "language": "python",
   "name": "python3"
  },
  "language_info": {
   "codemirror_mode": {
    "name": "ipython",
    "version": 3
   },
   "file_extension": ".py",
   "mimetype": "text/x-python",
   "name": "python",
   "nbconvert_exporter": "python",
   "pygments_lexer": "ipython3",
   "version": "3.9.13"
  }
 },
 "nbformat": 4,
 "nbformat_minor": 5
}
